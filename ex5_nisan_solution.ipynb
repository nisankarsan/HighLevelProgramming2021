{
  "nbformat": 4,
  "nbformat_minor": 0,
  "metadata": {
    "colab": {
      "name": "ex5_nisan_solution.ipynb",
      "provenance": [],
      "collapsed_sections": [],
      "authorship_tag": "ABX9TyNBs6GztKdxmPJg3rE+W5P3",
      "include_colab_link": true
    },
    "kernelspec": {
      "name": "python3",
      "display_name": "Python 3"
    },
    "language_info": {
      "name": "python"
    }
  },
  "cells": [
    {
      "cell_type": "markdown",
      "metadata": {
        "id": "view-in-github",
        "colab_type": "text"
      },
      "source": [
        "<a href=\"https://colab.research.google.com/github/nisankarsan/HighLevelProgramming2021/blob/main/ex5_nisan_solution.ipynb\" target=\"_parent\"><img src=\"https://colab.research.google.com/assets/colab-badge.svg\" alt=\"Open In Colab\"/></a>"
      ]
    },
    {
      "cell_type": "code",
      "metadata": {
        "colab": {
          "base_uri": "https://localhost:8080/"
        },
        "id": "kNMAlHBAXl0Y",
        "outputId": "3993aa0a-201a-4e02-a9b3-db6eb2a93897"
      },
      "source": [
        "# If haven't downloaded it yet, please get the data file with wget\n",
        "!wget https://www.dropbox.com/s/xvjzaxzz3ysphme/data_000637.txt -P ./data/"
      ],
      "execution_count": 2,
      "outputs": [
        {
          "output_type": "stream",
          "name": "stdout",
          "text": [
            "--2021-12-03 12:57:56--  https://www.dropbox.com/s/xvjzaxzz3ysphme/data_000637.txt\n",
            "Resolving www.dropbox.com (www.dropbox.com)... 162.125.1.18, 2620:100:6016:18::a27d:112\n",
            "Connecting to www.dropbox.com (www.dropbox.com)|162.125.1.18|:443... connected.\n",
            "HTTP request sent, awaiting response... 301 Moved Permanently\n",
            "Location: /s/raw/xvjzaxzz3ysphme/data_000637.txt [following]\n",
            "--2021-12-03 12:57:56--  https://www.dropbox.com/s/raw/xvjzaxzz3ysphme/data_000637.txt\n",
            "Reusing existing connection to www.dropbox.com:443.\n",
            "HTTP request sent, awaiting response... 302 Found\n",
            "Location: https://uc43c931946405187b48c4b5086a.dl.dropboxusercontent.com/cd/0/inline/BbLaPcyboWRhWuN9O5XrfhrGhz_uMgYxxcfTs5Uq0Kw5PnstA2RyfGl2QJVBPtJS3uzP_lPqnHctl_wA2TDasiBuPLeYrKPuOJ-p9ft_-e583kQVCZVvnpu_NSD95NzNw-HanbpgdtxaFalW13X5Wi1O/file# [following]\n",
            "--2021-12-03 12:57:56--  https://uc43c931946405187b48c4b5086a.dl.dropboxusercontent.com/cd/0/inline/BbLaPcyboWRhWuN9O5XrfhrGhz_uMgYxxcfTs5Uq0Kw5PnstA2RyfGl2QJVBPtJS3uzP_lPqnHctl_wA2TDasiBuPLeYrKPuOJ-p9ft_-e583kQVCZVvnpu_NSD95NzNw-HanbpgdtxaFalW13X5Wi1O/file\n",
            "Resolving uc43c931946405187b48c4b5086a.dl.dropboxusercontent.com (uc43c931946405187b48c4b5086a.dl.dropboxusercontent.com)... 162.125.7.15, 2620:100:6016:15::a27d:10f\n",
            "Connecting to uc43c931946405187b48c4b5086a.dl.dropboxusercontent.com (uc43c931946405187b48c4b5086a.dl.dropboxusercontent.com)|162.125.7.15|:443... connected.\n",
            "HTTP request sent, awaiting response... 200 OK\n",
            "Length: 33179236 (32M) [text/plain]\n",
            "Saving to: ‘./data/data_000637.txt.1’\n",
            "\n",
            "data_000637.txt.1   100%[===================>]  31.64M  72.6MB/s    in 0.4s    \n",
            "\n",
            "2021-12-03 12:57:57 (72.6 MB/s) - ‘./data/data_000637.txt.1’ saved [33179236/33179236]\n",
            "\n"
          ]
        }
      ]
    },
    {
      "cell_type": "code",
      "metadata": {
        "colab": {
          "base_uri": "https://localhost:8080/",
          "height": 423
        },
        "id": "NV0mypMnX2kr",
        "outputId": "308d5a6f-bf30-4f25-ba04-85afeb909303"
      },
      "source": [
        "import pandas as pd\n",
        "name_of_file = \"./data/data_000637.txt\"\n",
        "data = pd.read_csv(name_of_file)\n",
        "data"
      ],
      "execution_count": 6,
      "outputs": [
        {
          "output_type": "execute_result",
          "data": {
            "text/html": [
              "<div>\n",
              "<style scoped>\n",
              "    .dataframe tbody tr th:only-of-type {\n",
              "        vertical-align: middle;\n",
              "    }\n",
              "\n",
              "    .dataframe tbody tr th {\n",
              "        vertical-align: top;\n",
              "    }\n",
              "\n",
              "    .dataframe thead th {\n",
              "        text-align: right;\n",
              "    }\n",
              "</style>\n",
              "<table border=\"1\" class=\"dataframe\">\n",
              "  <thead>\n",
              "    <tr style=\"text-align: right;\">\n",
              "      <th></th>\n",
              "      <th>HEAD</th>\n",
              "      <th>FPGA</th>\n",
              "      <th>TDC_CHANNEL</th>\n",
              "      <th>ORBIT_CNT</th>\n",
              "      <th>BX_COUNTER</th>\n",
              "      <th>TDC_MEAS</th>\n",
              "    </tr>\n",
              "  </thead>\n",
              "  <tbody>\n",
              "    <tr>\n",
              "      <th>0</th>\n",
              "      <td>1</td>\n",
              "      <td>0</td>\n",
              "      <td>123</td>\n",
              "      <td>3869200167</td>\n",
              "      <td>2374</td>\n",
              "      <td>26</td>\n",
              "    </tr>\n",
              "    <tr>\n",
              "      <th>1</th>\n",
              "      <td>1</td>\n",
              "      <td>0</td>\n",
              "      <td>124</td>\n",
              "      <td>3869200167</td>\n",
              "      <td>2374</td>\n",
              "      <td>27</td>\n",
              "    </tr>\n",
              "    <tr>\n",
              "      <th>2</th>\n",
              "      <td>1</td>\n",
              "      <td>0</td>\n",
              "      <td>63</td>\n",
              "      <td>3869200167</td>\n",
              "      <td>2553</td>\n",
              "      <td>28</td>\n",
              "    </tr>\n",
              "    <tr>\n",
              "      <th>3</th>\n",
              "      <td>1</td>\n",
              "      <td>0</td>\n",
              "      <td>64</td>\n",
              "      <td>3869200167</td>\n",
              "      <td>2558</td>\n",
              "      <td>19</td>\n",
              "    </tr>\n",
              "    <tr>\n",
              "      <th>4</th>\n",
              "      <td>1</td>\n",
              "      <td>0</td>\n",
              "      <td>64</td>\n",
              "      <td>3869200167</td>\n",
              "      <td>2760</td>\n",
              "      <td>25</td>\n",
              "    </tr>\n",
              "    <tr>\n",
              "      <th>...</th>\n",
              "      <td>...</td>\n",
              "      <td>...</td>\n",
              "      <td>...</td>\n",
              "      <td>...</td>\n",
              "      <td>...</td>\n",
              "      <td>...</td>\n",
              "    </tr>\n",
              "    <tr>\n",
              "      <th>1310715</th>\n",
              "      <td>1</td>\n",
              "      <td>0</td>\n",
              "      <td>62</td>\n",
              "      <td>3869211171</td>\n",
              "      <td>762</td>\n",
              "      <td>14</td>\n",
              "    </tr>\n",
              "    <tr>\n",
              "      <th>1310716</th>\n",
              "      <td>1</td>\n",
              "      <td>1</td>\n",
              "      <td>4</td>\n",
              "      <td>3869211171</td>\n",
              "      <td>763</td>\n",
              "      <td>11</td>\n",
              "    </tr>\n",
              "    <tr>\n",
              "      <th>1310717</th>\n",
              "      <td>1</td>\n",
              "      <td>0</td>\n",
              "      <td>64</td>\n",
              "      <td>3869211171</td>\n",
              "      <td>764</td>\n",
              "      <td>0</td>\n",
              "    </tr>\n",
              "    <tr>\n",
              "      <th>1310718</th>\n",
              "      <td>1</td>\n",
              "      <td>0</td>\n",
              "      <td>139</td>\n",
              "      <td>3869211171</td>\n",
              "      <td>769</td>\n",
              "      <td>0</td>\n",
              "    </tr>\n",
              "    <tr>\n",
              "      <th>1310719</th>\n",
              "      <td>1</td>\n",
              "      <td>0</td>\n",
              "      <td>61</td>\n",
              "      <td>3869211171</td>\n",
              "      <td>762</td>\n",
              "      <td>18</td>\n",
              "    </tr>\n",
              "  </tbody>\n",
              "</table>\n",
              "<p>1310720 rows × 6 columns</p>\n",
              "</div>"
            ],
            "text/plain": [
              "         HEAD  FPGA  TDC_CHANNEL   ORBIT_CNT  BX_COUNTER  TDC_MEAS\n",
              "0           1     0          123  3869200167        2374        26\n",
              "1           1     0          124  3869200167        2374        27\n",
              "2           1     0           63  3869200167        2553        28\n",
              "3           1     0           64  3869200167        2558        19\n",
              "4           1     0           64  3869200167        2760        25\n",
              "...       ...   ...          ...         ...         ...       ...\n",
              "1310715     1     0           62  3869211171         762        14\n",
              "1310716     1     1            4  3869211171         763        11\n",
              "1310717     1     0           64  3869211171         764         0\n",
              "1310718     1     0          139  3869211171         769         0\n",
              "1310719     1     0           61  3869211171         762        18\n",
              "\n",
              "[1310720 rows x 6 columns]"
            ]
          },
          "metadata": {},
          "execution_count": 6
        }
      ]
    },
    {
      "cell_type": "code",
      "metadata": {
        "id": "CQ2DzuwHYHE5"
      },
      "source": [
        ""
      ],
      "execution_count": null,
      "outputs": []
    },
    {
      "cell_type": "markdown",
      "metadata": {
        "id": "M-VTCt9BYJrH"
      },
      "source": [
        "1. Create a Pandas DataFrame reading N rows of the data/data_000637.txt dataset. Choose N to be smaller than or equal to the maximum number of rows and larger that 10k (check the documentation)."
      ]
    },
    {
      "cell_type": "code",
      "metadata": {
        "colab": {
          "base_uri": "https://localhost:8080/",
          "height": 458
        },
        "id": "PjsbKBBpYNhk",
        "outputId": "9a7e34b7-52f6-4a24-fe8e-07a5d633e59a"
      },
      "source": [
        "import random\n",
        "R = random.randint(10000,1310720)\n",
        "print(\"R is Random\")\n",
        "print(R)\n",
        "defi = pd.read_csv(name_of_file, nrows=R)\n",
        "defi"
      ],
      "execution_count": 9,
      "outputs": [
        {
          "output_type": "stream",
          "name": "stdout",
          "text": [
            "R is Random\n",
            "186894\n"
          ]
        },
        {
          "output_type": "execute_result",
          "data": {
            "text/html": [
              "<div>\n",
              "<style scoped>\n",
              "    .dataframe tbody tr th:only-of-type {\n",
              "        vertical-align: middle;\n",
              "    }\n",
              "\n",
              "    .dataframe tbody tr th {\n",
              "        vertical-align: top;\n",
              "    }\n",
              "\n",
              "    .dataframe thead th {\n",
              "        text-align: right;\n",
              "    }\n",
              "</style>\n",
              "<table border=\"1\" class=\"dataframe\">\n",
              "  <thead>\n",
              "    <tr style=\"text-align: right;\">\n",
              "      <th></th>\n",
              "      <th>HEAD</th>\n",
              "      <th>FPGA</th>\n",
              "      <th>TDC_CHANNEL</th>\n",
              "      <th>ORBIT_CNT</th>\n",
              "      <th>BX_COUNTER</th>\n",
              "      <th>TDC_MEAS</th>\n",
              "    </tr>\n",
              "  </thead>\n",
              "  <tbody>\n",
              "    <tr>\n",
              "      <th>0</th>\n",
              "      <td>1</td>\n",
              "      <td>0</td>\n",
              "      <td>123</td>\n",
              "      <td>3869200167</td>\n",
              "      <td>2374</td>\n",
              "      <td>26</td>\n",
              "    </tr>\n",
              "    <tr>\n",
              "      <th>1</th>\n",
              "      <td>1</td>\n",
              "      <td>0</td>\n",
              "      <td>124</td>\n",
              "      <td>3869200167</td>\n",
              "      <td>2374</td>\n",
              "      <td>27</td>\n",
              "    </tr>\n",
              "    <tr>\n",
              "      <th>2</th>\n",
              "      <td>1</td>\n",
              "      <td>0</td>\n",
              "      <td>63</td>\n",
              "      <td>3869200167</td>\n",
              "      <td>2553</td>\n",
              "      <td>28</td>\n",
              "    </tr>\n",
              "    <tr>\n",
              "      <th>3</th>\n",
              "      <td>1</td>\n",
              "      <td>0</td>\n",
              "      <td>64</td>\n",
              "      <td>3869200167</td>\n",
              "      <td>2558</td>\n",
              "      <td>19</td>\n",
              "    </tr>\n",
              "    <tr>\n",
              "      <th>4</th>\n",
              "      <td>1</td>\n",
              "      <td>0</td>\n",
              "      <td>64</td>\n",
              "      <td>3869200167</td>\n",
              "      <td>2760</td>\n",
              "      <td>25</td>\n",
              "    </tr>\n",
              "    <tr>\n",
              "      <th>...</th>\n",
              "      <td>...</td>\n",
              "      <td>...</td>\n",
              "      <td>...</td>\n",
              "      <td>...</td>\n",
              "      <td>...</td>\n",
              "      <td>...</td>\n",
              "    </tr>\n",
              "    <tr>\n",
              "      <th>186889</th>\n",
              "      <td>1</td>\n",
              "      <td>1</td>\n",
              "      <td>139</td>\n",
              "      <td>3869202026</td>\n",
              "      <td>2853</td>\n",
              "      <td>0</td>\n",
              "    </tr>\n",
              "    <tr>\n",
              "      <th>186890</th>\n",
              "      <td>1</td>\n",
              "      <td>1</td>\n",
              "      <td>1</td>\n",
              "      <td>3869202026</td>\n",
              "      <td>2847</td>\n",
              "      <td>18</td>\n",
              "    </tr>\n",
              "    <tr>\n",
              "      <th>186891</th>\n",
              "      <td>1</td>\n",
              "      <td>1</td>\n",
              "      <td>10</td>\n",
              "      <td>3869202026</td>\n",
              "      <td>2851</td>\n",
              "      <td>9</td>\n",
              "    </tr>\n",
              "    <tr>\n",
              "      <th>186892</th>\n",
              "      <td>1</td>\n",
              "      <td>1</td>\n",
              "      <td>2</td>\n",
              "      <td>3869202026</td>\n",
              "      <td>2843</td>\n",
              "      <td>16</td>\n",
              "    </tr>\n",
              "    <tr>\n",
              "      <th>186893</th>\n",
              "      <td>1</td>\n",
              "      <td>1</td>\n",
              "      <td>5</td>\n",
              "      <td>3869202026</td>\n",
              "      <td>2849</td>\n",
              "      <td>20</td>\n",
              "    </tr>\n",
              "  </tbody>\n",
              "</table>\n",
              "<p>186894 rows × 6 columns</p>\n",
              "</div>"
            ],
            "text/plain": [
              "        HEAD  FPGA  TDC_CHANNEL   ORBIT_CNT  BX_COUNTER  TDC_MEAS\n",
              "0          1     0          123  3869200167        2374        26\n",
              "1          1     0          124  3869200167        2374        27\n",
              "2          1     0           63  3869200167        2553        28\n",
              "3          1     0           64  3869200167        2558        19\n",
              "4          1     0           64  3869200167        2760        25\n",
              "...      ...   ...          ...         ...         ...       ...\n",
              "186889     1     1          139  3869202026        2853         0\n",
              "186890     1     1            1  3869202026        2847        18\n",
              "186891     1     1           10  3869202026        2851         9\n",
              "186892     1     1            2  3869202026        2843        16\n",
              "186893     1     1            5  3869202026        2849        20\n",
              "\n",
              "[186894 rows x 6 columns]"
            ]
          },
          "metadata": {},
          "execution_count": 9
        }
      ]
    },
    {
      "cell_type": "markdown",
      "metadata": {
        "id": "M-Qs6DKlYjg4"
      },
      "source": [
        "2\\. Estimate the number of BX in a ORBIT (the value 'x')."
      ]
    },
    {
      "cell_type": "code",
      "metadata": {
        "colab": {
          "base_uri": "https://localhost:8080/"
        },
        "id": "HlJLm4rMYl84",
        "outputId": "b8446d61-dcb4-4d9a-99ab-ca46bc5eb24e"
      },
      "source": [
        "bx_co = data['BX_COUNTER'].max()\n",
        "print(bx_co)"
      ],
      "execution_count": 12,
      "outputs": [
        {
          "output_type": "stream",
          "name": "stdout",
          "text": [
            "3563\n"
          ]
        }
      ]
    },
    {
      "cell_type": "markdown",
      "metadata": {
        "id": "Vvt6WlqDY9Yu"
      },
      "source": [
        "3\\. Find out the duration of the data taking in hours, minutes and seconds. You can either make an estimate based on the fraction of the measurements (rows) you read, or perform this check precisely by reading the whole dataset."
      ]
    },
    {
      "cell_type": "code",
      "metadata": {
        "colab": {
          "base_uri": "https://localhost:8080/"
        },
        "id": "5exnFsJ2Y-pp",
        "outputId": "5f5390b7-ef9e-4fa0-af83-5cfe2667f918"
      },
      "source": [
        "orbit_value = data['ORBIT_CNT'].iloc[len(data.index)-1] - data['ORBIT_CNT'].iloc[0]\n",
        "bx_value = data['BX_COUNTER'].iloc[len(data.index)-1] - data['BX_COUNTER'].iloc[0]\n",
        "tdc_value = data['TDC_MEAS'].iloc[len(data.index)-1] - data['TDC_MEAS'].iloc[0]\n",
        "\n",
        "time_sec = orbit_value*bx_co*25e-9 + bx_value*25e-9 + tdc_value*25e-9/30\n",
        "time_minutes = time_sec/60\n",
        "time_hours = time_minutes/60\n",
        "print(\"TIME ESTIMATED: \\n\")\n",
        "print(\"IN SECOND: \\n\",time_sec)\n",
        "print(\"IN MINUTES:\\n\",time_minutes)\n",
        "print(\"IN HOURS \\n\",time_hours)"
      ],
      "execution_count": 20,
      "outputs": [
        {
          "output_type": "stream",
          "name": "stdout",
          "text": [
            "TIME ESTIMATED: \n",
            "\n",
            "IN SECOND: \n",
            " 0.9801409933333333\n",
            "IN MINUTES:\n",
            " 0.01633568322222222\n",
            "IN HOURS \n",
            " 0.000272261387037037\n"
          ]
        }
      ]
    },
    {
      "cell_type": "markdown",
      "metadata": {
        "id": "8oMpAWtwY8Bv"
      },
      "source": [
        "4\\. Create a new column with the absolute time in ns (as a combination of the other three columns with timing information) since the beginning of the data acquisition.\n",
        "\n",
        "---\n",
        "\n"
      ]
    },
    {
      "cell_type": "code",
      "metadata": {
        "colab": {
          "base_uri": "https://localhost:8080/",
          "height": 441
        },
        "id": "CC5CSXcZasCD",
        "outputId": "6e8d3669-2dc5-47c4-b870-799ef54b7f8f"
      },
      "source": [
        "##nanosec ex\n",
        "defi['nanosectime'] = df['ORBIT_CNT']*bx_co*25+df['BX_COUNTER']*25+defi['TDC_MEAS']*25/30\n",
        "print(\"new col with nanosec \")\n",
        "defi"
      ],
      "execution_count": 21,
      "outputs": [
        {
          "output_type": "stream",
          "name": "stdout",
          "text": [
            "new col with nanosec \n"
          ]
        },
        {
          "output_type": "execute_result",
          "data": {
            "text/html": [
              "<div>\n",
              "<style scoped>\n",
              "    .dataframe tbody tr th:only-of-type {\n",
              "        vertical-align: middle;\n",
              "    }\n",
              "\n",
              "    .dataframe tbody tr th {\n",
              "        vertical-align: top;\n",
              "    }\n",
              "\n",
              "    .dataframe thead th {\n",
              "        text-align: right;\n",
              "    }\n",
              "</style>\n",
              "<table border=\"1\" class=\"dataframe\">\n",
              "  <thead>\n",
              "    <tr style=\"text-align: right;\">\n",
              "      <th></th>\n",
              "      <th>HEAD</th>\n",
              "      <th>FPGA</th>\n",
              "      <th>TDC_CHANNEL</th>\n",
              "      <th>ORBIT_CNT</th>\n",
              "      <th>BX_COUNTER</th>\n",
              "      <th>TDC_MEAS</th>\n",
              "      <th>nanosectime</th>\n",
              "    </tr>\n",
              "  </thead>\n",
              "  <tbody>\n",
              "    <tr>\n",
              "      <th>0</th>\n",
              "      <td>1</td>\n",
              "      <td>0</td>\n",
              "      <td>123</td>\n",
              "      <td>3869200167</td>\n",
              "      <td>2374</td>\n",
              "      <td>26</td>\n",
              "      <td>3.446490e+14</td>\n",
              "    </tr>\n",
              "    <tr>\n",
              "      <th>1</th>\n",
              "      <td>1</td>\n",
              "      <td>0</td>\n",
              "      <td>124</td>\n",
              "      <td>3869200167</td>\n",
              "      <td>2374</td>\n",
              "      <td>27</td>\n",
              "      <td>3.446490e+14</td>\n",
              "    </tr>\n",
              "    <tr>\n",
              "      <th>2</th>\n",
              "      <td>1</td>\n",
              "      <td>0</td>\n",
              "      <td>63</td>\n",
              "      <td>3869200167</td>\n",
              "      <td>2553</td>\n",
              "      <td>28</td>\n",
              "      <td>3.446490e+14</td>\n",
              "    </tr>\n",
              "    <tr>\n",
              "      <th>3</th>\n",
              "      <td>1</td>\n",
              "      <td>0</td>\n",
              "      <td>64</td>\n",
              "      <td>3869200167</td>\n",
              "      <td>2558</td>\n",
              "      <td>19</td>\n",
              "      <td>3.446490e+14</td>\n",
              "    </tr>\n",
              "    <tr>\n",
              "      <th>4</th>\n",
              "      <td>1</td>\n",
              "      <td>0</td>\n",
              "      <td>64</td>\n",
              "      <td>3869200167</td>\n",
              "      <td>2760</td>\n",
              "      <td>25</td>\n",
              "      <td>3.446490e+14</td>\n",
              "    </tr>\n",
              "    <tr>\n",
              "      <th>...</th>\n",
              "      <td>...</td>\n",
              "      <td>...</td>\n",
              "      <td>...</td>\n",
              "      <td>...</td>\n",
              "      <td>...</td>\n",
              "      <td>...</td>\n",
              "      <td>...</td>\n",
              "    </tr>\n",
              "    <tr>\n",
              "      <th>186889</th>\n",
              "      <td>1</td>\n",
              "      <td>1</td>\n",
              "      <td>139</td>\n",
              "      <td>3869202026</td>\n",
              "      <td>2853</td>\n",
              "      <td>0</td>\n",
              "      <td>3.446492e+14</td>\n",
              "    </tr>\n",
              "    <tr>\n",
              "      <th>186890</th>\n",
              "      <td>1</td>\n",
              "      <td>1</td>\n",
              "      <td>1</td>\n",
              "      <td>3869202026</td>\n",
              "      <td>2847</td>\n",
              "      <td>18</td>\n",
              "      <td>3.446492e+14</td>\n",
              "    </tr>\n",
              "    <tr>\n",
              "      <th>186891</th>\n",
              "      <td>1</td>\n",
              "      <td>1</td>\n",
              "      <td>10</td>\n",
              "      <td>3869202026</td>\n",
              "      <td>2851</td>\n",
              "      <td>9</td>\n",
              "      <td>3.446492e+14</td>\n",
              "    </tr>\n",
              "    <tr>\n",
              "      <th>186892</th>\n",
              "      <td>1</td>\n",
              "      <td>1</td>\n",
              "      <td>2</td>\n",
              "      <td>3869202026</td>\n",
              "      <td>2843</td>\n",
              "      <td>16</td>\n",
              "      <td>3.446492e+14</td>\n",
              "    </tr>\n",
              "    <tr>\n",
              "      <th>186893</th>\n",
              "      <td>1</td>\n",
              "      <td>1</td>\n",
              "      <td>5</td>\n",
              "      <td>3869202026</td>\n",
              "      <td>2849</td>\n",
              "      <td>20</td>\n",
              "      <td>3.446492e+14</td>\n",
              "    </tr>\n",
              "  </tbody>\n",
              "</table>\n",
              "<p>186894 rows × 7 columns</p>\n",
              "</div>"
            ],
            "text/plain": [
              "        HEAD  FPGA  TDC_CHANNEL   ORBIT_CNT  BX_COUNTER  TDC_MEAS   nanosectime\n",
              "0          1     0          123  3869200167        2374        26  3.446490e+14\n",
              "1          1     0          124  3869200167        2374        27  3.446490e+14\n",
              "2          1     0           63  3869200167        2553        28  3.446490e+14\n",
              "3          1     0           64  3869200167        2558        19  3.446490e+14\n",
              "4          1     0           64  3869200167        2760        25  3.446490e+14\n",
              "...      ...   ...          ...         ...         ...       ...           ...\n",
              "186889     1     1          139  3869202026        2853         0  3.446492e+14\n",
              "186890     1     1            1  3869202026        2847        18  3.446492e+14\n",
              "186891     1     1           10  3869202026        2851         9  3.446492e+14\n",
              "186892     1     1            2  3869202026        2843        16  3.446492e+14\n",
              "186893     1     1            5  3869202026        2849        20  3.446492e+14\n",
              "\n",
              "[186894 rows x 7 columns]"
            ]
          },
          "metadata": {},
          "execution_count": 21
        }
      ]
    },
    {
      "cell_type": "markdown",
      "metadata": {
        "id": "jtHdKgBAbB_z"
      },
      "source": [
        "5\\. Use the `.groupby()` method to find out the noisy channels, i.e. the TDC channels with most counts (print to screen the top 3 and the corresponding counts)"
      ]
    },
    {
      "cell_type": "code",
      "metadata": {
        "colab": {
          "base_uri": "https://localhost:8080/"
        },
        "id": "bJF2VZwAbEW2",
        "outputId": "0df29ced-6a4e-46d1-d420-a121c9ae9036"
      },
      "source": [
        "noisyTDC=defi.groupby(['TDC_CHANNEL']).size().sort_values(ascending=False)\n",
        "print(\"NOISY CHANNEL \\n\")\n",
        "\n",
        "print(noisyTDC[0:3])"
      ],
      "execution_count": 24,
      "outputs": [
        {
          "output_type": "stream",
          "name": "stdout",
          "text": [
            "NOISY CHANNEL \n",
            "\n",
            "TDC_CHANNEL\n",
            "139    15525\n",
            "64      9274\n",
            "63      9051\n",
            "dtype: int64\n"
          ]
        }
      ]
    },
    {
      "cell_type": "markdown",
      "metadata": {
        "id": "Aa6t5-5xbVZG"
      },
      "source": [
        "6\\. Count the number of non-empty orbits (i.e. the number of orbits with at least one hit). Count also the number of unique orbits with at least one measurement from TDC_CHANNEL=139."
      ]
    },
    {
      "cell_type": "code",
      "metadata": {
        "colab": {
          "base_uri": "https://localhost:8080/"
        },
        "id": "5WfQ7oiAbV7D",
        "outputId": "0e439d6d-8e6e-408c-eaae-ceb69d801723"
      },
      "source": [
        "nonempty_orbits = len(defi.groupby('ORBIT_CNT').count())\n",
        "print(\"NONEMPTY ORBITS :\")\n",
        "print(nonempty_orbits,\"\\n\")\n",
        "\n",
        "nonempty139=df[df['TDC_CHANNEL']==139].groupby('ORBIT_CNT').count()\n",
        "print(\"UNIQUE ORBITS --> TDC_CHANNEL=139 \")\n",
        "print(len(nonempty139))"
      ],
      "execution_count": 28,
      "outputs": [
        {
          "output_type": "stream",
          "name": "stdout",
          "text": [
            "NONEMPTY ORBITS :\n",
            "1858 \n",
            "\n",
            "UNIQUE ORBITS --> TDC_CHANNEL=139 \n",
            "5978\n"
          ]
        }
      ]
    },
    {
      "cell_type": "markdown",
      "metadata": {
        "id": "V7IgQwTJb7At"
      },
      "source": [
        "7. Optional: Make two occupancy plots (one for each FPGA), i.e. plot the number of counts per TDC channel"
      ]
    },
    {
      "cell_type": "code",
      "metadata": {
        "colab": {
          "base_uri": "https://localhost:8080/",
          "height": 580
        },
        "id": "LpJYb_o-b8sx",
        "outputId": "be301993-7c95-49df-a1a4-8325577dad61"
      },
      "source": [
        "import matplotlib.pyplot as plot\n",
        "\n",
        "FPGA_0 = data[data['FPGA'] == 0][\"TDC_CHANNEL\"]\n",
        "FPGA_1 = data[data['FPGA'] == 1][\"TDC_CHANNEL\"]\n",
        "ch_0 = data[data['FPGA'] == 0][\"TDC_CHANNEL\"].max()\n",
        "ch_1 = data[data['FPGA'] == 1][\"TDC_CHANNEL\"].max()\n",
        "\n",
        "plot.rcParams.update({'axes.facecolor':'pink'})\n",
        "plot.figure(facecolor='white') \n",
        "\n",
        "plot.hist(FPGA_0,bins=c_0)\n",
        "plot.title('FPGA 0')\n",
        "plot.show()\n",
        "print(\"\\n\")\n",
        "\n",
        "plot.figure(facecolor='white') \n",
        "plot.hist(FPGA_1,bins=ch_1)\n",
        "plot.title('FPGA 1')\n",
        "plot.show()"
      ],
      "execution_count": 45,
      "outputs": [
        {
          "output_type": "display_data",
          "data": {
            "image/png": "[encoded data removed]",
            "text/plain": [
              "<Figure size 432x288 with 1 Axes>"
            ]
          },
          "metadata": {}
        },
        {
          "output_type": "stream",
          "name": "stdout",
          "text": [
            "\n",
            "\n"
          ]
        },
        {
          "output_type": "display_data",
          "data": {
            "image/png": "[encoded data removed]",
            "text/plain": [
              "<Figure size 432x288 with 1 Axes>"
            ]
          },
          "metadata": {}
        }
      ]
    },
    {
      "cell_type": "code",
      "metadata": {
        "id": "ZFaWq0r-b_e_"
      },
      "source": [
        ""
      ],
      "execution_count": null,
      "outputs": []
    }
  ]
}